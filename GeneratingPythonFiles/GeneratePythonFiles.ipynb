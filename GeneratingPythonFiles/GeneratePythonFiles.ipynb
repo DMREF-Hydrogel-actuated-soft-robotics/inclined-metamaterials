{
 "cells": [
  {
   "cell_type": "markdown",
   "metadata": {},
   "source": [
    "# Generate Python Run Files"
   ]
  },
  {
   "cell_type": "code",
   "execution_count": 4,
   "metadata": {
    "collapsed": true
   },
   "outputs": [],
   "source": [
    "import numpy as np"
   ]
  },
  {
   "cell_type": "code",
   "execution_count": 5,
   "metadata": {},
   "outputs": [],
   "source": [
    "Angles=np.arange(10,90,5)"
   ]
  },
  {
   "cell_type": "code",
   "execution_count": 6,
   "metadata": {},
   "outputs": [
    {
     "ename": "TypeError",
     "evalue": "'newline' is an invalid keyword argument for this function",
     "output_type": "error",
     "traceback": [
      "\u001b[0;31m---------------------------------------------------------------------------\u001b[0m",
      "\u001b[0;31mTypeError\u001b[0m                                 Traceback (most recent call last)",
      "\u001b[0;32m<ipython-input-6-8f2c90d448cc>\u001b[0m in \u001b[0;36m<module>\u001b[0;34m()\u001b[0m\n\u001b[1;32m      1\u001b[0m \u001b[0mfolder\u001b[0m\u001b[0;34m=\u001b[0m\u001b[0;34m'ModelV4/'\u001b[0m\u001b[0;34m\u001b[0m\u001b[0m\n\u001b[1;32m      2\u001b[0m \u001b[0mFileName\u001b[0m\u001b[0;34m=\u001b[0m\u001b[0;34m'RunAnalysis'\u001b[0m\u001b[0;34m\u001b[0m\u001b[0m\n\u001b[0;32m----> 3\u001b[0;31m \u001b[0mfbash\u001b[0m\u001b[0;34m=\u001b[0m\u001b[0mopen\u001b[0m\u001b[0;34m(\u001b[0m\u001b[0mfolder\u001b[0m\u001b[0;34m+\u001b[0m\u001b[0;34m'SRunAll.sh'\u001b[0m\u001b[0;34m,\u001b[0m\u001b[0;34m'w'\u001b[0m\u001b[0;34m,\u001b[0m\u001b[0mnewline\u001b[0m\u001b[0;34m=\u001b[0m\u001b[0;34m'\\n'\u001b[0m\u001b[0;34m)\u001b[0m\u001b[0;34m\u001b[0m\u001b[0m\n\u001b[0m\u001b[1;32m      4\u001b[0m \u001b[0;32mfor\u001b[0m \u001b[0mi\u001b[0m \u001b[0;32min\u001b[0m \u001b[0mAngles\u001b[0m\u001b[0;34m:\u001b[0m\u001b[0;34m\u001b[0m\u001b[0m\n\u001b[1;32m      5\u001b[0m     \u001b[0mf\u001b[0m\u001b[0;34m=\u001b[0m\u001b[0mopen\u001b[0m\u001b[0;34m(\u001b[0m\u001b[0mfolder\u001b[0m\u001b[0;34m+\u001b[0m\u001b[0mFileName\u001b[0m\u001b[0;34m+\u001b[0m\u001b[0;34m'_'\u001b[0m\u001b[0;34m+\u001b[0m\u001b[0mstr\u001b[0m\u001b[0;34m(\u001b[0m\u001b[0mi\u001b[0m\u001b[0;34m)\u001b[0m\u001b[0;34m+\u001b[0m\u001b[0;34m'.py'\u001b[0m\u001b[0;34m,\u001b[0m\u001b[0;34m'w'\u001b[0m\u001b[0;34m,\u001b[0m\u001b[0mnewline\u001b[0m\u001b[0;34m=\u001b[0m\u001b[0;34m'\\n'\u001b[0m\u001b[0;34m)\u001b[0m\u001b[0;34m\u001b[0m\u001b[0m\n",
      "\u001b[0;31mTypeError\u001b[0m: 'newline' is an invalid keyword argument for this function"
     ]
    }
   ],
   "source": [
    "folder='ModelV4/'\n",
    "FileName='RunAnalysis'\n",
    "fbash=open(folder+'SRunAll.sh','w',newline='\\n')\n",
    "for i in Angles:\n",
    "    f=open(folder+FileName+'_'+str(i)+'.py','w',newline='\\n')\n",
    "    fbash.write('sbatch S'+FileName+'_{}.sh\\n'.format(i))\n",
    "    f.write('ANGLECUT={}\\n'.format(i))\n",
    "    f.write('execfile(\\'Analysis.py\\')')\n",
    "    f.close()\n",
    "    \n",
    "    frun=open(folder+'S'+FileName+'_'+str(i)+'.sh','w',newline='\\n')\n",
    "    frun.write('#!/bin/bash\\n')\n",
    "\n",
    "    frun.write('#SBATCH -n 9\\n')\n",
    "    frun.write('#SBATCH -N 1\\n')         \n",
    "    frun.write('#SBATCH --mem=60000\\n')             \n",
    "    frun.write('#SBATCH -p commons\\n')            \n",
    "    frun.write('#SBATCH -o log_{}.err\\n'.format(i))     \n",
    "    frun.write('#SBATCH -e error_{}.err\\n'.format(i))     \n",
    "    frun.write('#SBATCH -t 5-00:00\\n')\n",
    "    frun.write('#SBATCH --mail-type=ALL\\n')\n",
    "    frun.write('#SBATCH --mail-user=fernandes@g.harvard.edu\\n')\n",
    "\n",
    "    frun.write('## load modules into the environment\\n')\n",
    "    frun.write('myinput=RunAnalysis_{}.py\\n'.format(i))\n",
    "\n",
    "#     frun.write('source new-modules.sh\\n')\n",
    "#     frun.write('module purge\\n')\n",
    "#     frun.write('module use -a /n/sw/abaqus-2018/Module\\n')\n",
    "    frun.write('module load abaqus/2018-fasrc01\\n')\n",
    "\n",
    "    frun.write('## setup the working folder local to the node.\\n')\n",
    "\n",
    "    frun.write('export MYSCRATCH=/scratch/$USER/$SLURM_JOB_ID\\n')\n",
    "\n",
    "    frun.write('mkdir -p $MYSCRATCH\\n')\n",
    "    frun.write('cp -v {Functions.py,Analysis.py,$myinput} $MYSCRATCH\\n')\n",
    "\n",
    "    frun.write('## go into the working folder\\n')\n",
    "\n",
    "    frun.write('cd $MYSCRATCH\\n')\n",
    "\n",
    "    frun.write('## execute your abacus script\\n')\n",
    "\n",
    "    frun.write('abaqus cae noGUI=$myinput\\n')\n",
    "\n",
    "    frun.write('## copy back the results in the original folder\\n')\n",
    "\n",
    "    frun.write('cp -uv $MYSCRATCH/*.txt $SLURM_SUBMIT_DIR\\n')\n",
    "    frun.write('cp -uv $MYSCRATCH/*.msg $SLURM_SUBMIT_DIR\\n')\n",
    "    frun.write('cp -uv $MYSCRATCH/*.odb $SLURM_SUBMIT_DIR\\n')\n",
    "    \n",
    "    frun.close()\n",
    "    \n",
    "fbash.close()"
   ]
  },
  {
   "cell_type": "code",
   "execution_count": null,
   "metadata": {
    "collapsed": true
   },
   "outputs": [],
   "source": []
  }
 ],
 "metadata": {
  "kernelspec": {
   "display_name": "Python 2",
   "language": "python",
   "name": "python2"
  },
  "language_info": {
   "codemirror_mode": {
    "name": "ipython",
    "version": 2
   },
   "file_extension": ".py",
   "mimetype": "text/x-python",
   "name": "python",
   "nbconvert_exporter": "python",
   "pygments_lexer": "ipython2",
   "version": "2.7.13"
  }
 },
 "nbformat": 4,
 "nbformat_minor": 2
}
